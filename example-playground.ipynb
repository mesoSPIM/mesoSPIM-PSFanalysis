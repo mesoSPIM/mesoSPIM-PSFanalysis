{
 "cells": [
  {
   "cell_type": "markdown",
   "metadata": {},
   "source": [
    "## Setup evnironment"
   ]
  },
  {
   "cell_type": "code",
   "execution_count": 3,
   "metadata": {},
   "outputs": [],
   "source": [
    "import os\n",
    "import numpy as np\n",
    "import pandas as pd\n",
    "import json\n",
    "from skimage.io import imread"
   ]
  },
  {
   "cell_type": "code",
   "execution_count": 4,
   "metadata": {
    "collapsed": true
   },
   "outputs": [],
   "source": [
    "from psf import compute, plotPSF"
   ]
  },
  {
   "cell_type": "markdown",
   "metadata": {},
   "source": [
    "## Setup plotting"
   ]
  },
  {
   "cell_type": "code",
   "execution_count": 5,
   "metadata": {},
   "outputs": [],
   "source": [
    "import matplotlib.pyplot as plt\n",
    "%matplotlib inline\n",
    "import seaborn as sns\n",
    "sns.set_context('paper', font_scale=2.0)\n",
    "sns.set_style('ticks')"
   ]
  },
  {
   "cell_type": "code",
   "execution_count": 6,
   "metadata": {},
   "outputs": [],
   "source": [
    "from ipywidgets import interactive\n",
    "from ipywidgets import IntSlider\n",
    "from IPython.display import display"
   ]
  },
  {
   "cell_type": "markdown",
   "metadata": {},
   "source": [
    "## Define parameters"
   ]
  },
  {
   "cell_type": "code",
   "execution_count": 7,
   "metadata": {},
   "outputs": [],
   "source": [
    "FOVumLat = 61.0\n",
    "FOVpxLat = 512.0 # 512\n",
    "pxPerUmLat = FOVpxLat/FOVumLat\n",
    "pxPerUmAx = 2.0 # 2.0\n",
    "wavelength = 970.0\n",
    "NA = 0.6\n",
    "windowUm = [12, 2, 2]\n",
    "options = {'FOVumLat':FOVumLat, 'FOVpxLat':FOVpxLat, 'pxPerUmLat':FOVpxLat/FOVumLat, 'pxPerUmAx':pxPerUmAx, 'wavelength':970.0, 'NA':0.6, 'windowUm':windowUm}\n",
    "options['thresh'] = .05"
   ]
  },
  {
   "cell_type": "code",
   "execution_count": null,
   "metadata": {
    "collapsed": true
   },
   "outputs": [],
   "source": [
    "FOVumLat = 819.2\n",
    "FOVpxLat = 512.0 # 512\n",
    "pxPerUmLat = FOVpxLat/FOVumLat\n",
    "pxPerUmAx = 1.0 # 1.0\n",
    "wavelength = 488.0\n",
    "NA = 0.2\n",
    "windowUm = [12, 2, 2]\n",
    "options = {'FOVumLat':FOVumLat, 'FOVpxLat':FOVpxLat, 'pxPerUmLat':FOVpxLat/FOVumLat, 'pxPerUmAx':pxPerUmAx, 'wavelength':wavelength, 'NA':NA, 'windowUm':windowUm}\n",
    "options['thresh'] = .05"
   ]
  },
  {
   "cell_type": "code",
   "execution_count": 57,
   "metadata": {
    "collapsed": true
   },
   "outputs": [],
   "source": [
    "FOVumLat = 409.6\n",
    "FOVpxLat = 256.0 # 512\n",
    "pxPerUmLat = FOVpxLat/FOVumLat\n",
    "pxPerUmAx = 1.0 # 1.0\n",
    "wavelength = 488.0\n",
    "NA = 0.2\n",
    "windowUm = [12, 6, 6]\n",
    "options = {'FOVumLat':FOVumLat, 'FOVpxLat':FOVpxLat, 'pxPerUmLat':FOVpxLat/FOVumLat, 'pxPerUmAx':pxPerUmAx, 'wavelength':wavelength, 'NA':NA, 'windowUm':windowUm}\n",
    "options['thresh'] = .05"
   ]
  },
  {
   "cell_type": "code",
   "execution_count": 58,
   "metadata": {},
   "outputs": [
    {
     "data": {
      "text/plain": [
       "{'FOVpxLat': 256.0,\n",
       " 'FOVumLat': 409.6,\n",
       " 'NA': 0.2,\n",
       " 'pxPerUmAx': 1.0,\n",
       " 'pxPerUmLat': 0.625,\n",
       " 'thresh': 0.05,\n",
       " 'wavelength': 488.0,\n",
       " 'windowUm': [12, 6, 6]}"
      ]
     },
     "execution_count": 58,
     "metadata": {},
     "output_type": "execute_result"
    }
   ],
   "source": [
    "options"
   ]
  },
  {
   "cell_type": "markdown",
   "metadata": {},
   "source": [
    "## Get PSF"
   ]
  },
  {
   "cell_type": "code",
   "execution_count": 9,
   "metadata": {},
   "outputs": [],
   "source": [
    "im = imread('./data/images.tif', plugin='tifffile') "
   ]
  },
  {
   "cell_type": "code",
   "execution_count": 59,
   "metadata": {},
   "outputs": [],
   "source": [
    "im = imread('./data/test1.tif', plugin='tifffile')   "
   ]
  },
  {
   "cell_type": "code",
   "execution_count": 60,
   "metadata": {},
   "outputs": [],
   "source": [
    "data, beads, maxima, centers, smoothed = compute(im, options)"
   ]
  },
  {
   "cell_type": "code",
   "execution_count": 80,
   "metadata": {},
   "outputs": [
    {
     "data": {
      "text/plain": [
       "array([[488, 247,  98],\n",
       "       [486, 140, 148],\n",
       "       [484, 376, 394],\n",
       "       ..., \n",
       "       [ 15, 150,  18],\n",
       "       [ 14, 256, 399],\n",
       "       [ 13,  63,  58]], dtype=int64)"
      ]
     },
     "execution_count": 80,
     "metadata": {},
     "output_type": "execute_result"
    }
   ],
   "source": [
    "centers"
   ]
  },
  {
   "cell_type": "code",
   "execution_count": 79,
   "metadata": {},
   "outputs": [
    {
     "data": {
      "text/plain": [
       "array([247, 140, 376,  46, 414, 338, 256, 330,  87, 307, 127, 110, 441,\n",
       "       126,  49, 441, 394, 384,  90,  86, 275, 198,  26, 294,  43, 484,\n",
       "       309, 257,   9, 445, 284, 450, 254, 405, 353, 309,   8,  94, 319,\n",
       "       306, 432, 316, 259, 274,  53, 268, 168,  69, 198, 253, 163,  82,\n",
       "        35, 275, 345, 213, 346, 177,  99, 268, 458, 176, 147, 117, 499,\n",
       "        24, 275, 312, 326, 192, 174, 400, 249, 365,  20, 246, 188, 179,\n",
       "       358, 285, 254,  18, 339,  97, 303, 484,  69, 331, 335, 186, 401,\n",
       "       423, 117, 473,  63, 490, 269,   9, 339, 506,  10, 350, 177, 345,\n",
       "        32, 110,  27, 375, 471, 402, 335, 215, 504, 442, 343, 161,  35,\n",
       "        18,  37, 373,  69,  15, 313,  78, 444, 392, 313,  26,  54, 374,\n",
       "       366, 467, 368, 128, 325, 367, 249, 481, 418, 324, 283, 348, 390,\n",
       "        42, 485, 317, 127,  35, 282, 476,  50, 396,  87, 367, 259, 177,\n",
       "        58, 491, 496, 112, 185, 367, 101,  48, 267, 222, 131,  46, 494,\n",
       "       469,  18,  17,  54, 495, 491, 150, 121, 303,   9, 424, 402, 334,\n",
       "       175,  11, 387, 130, 497,  87, 398,  73,   9, 315, 251, 420,  38,\n",
       "       269, 402, 383,  54, 135, 395, 118, 411, 248, 463, 382, 508,  53,\n",
       "       506, 476, 282,   4, 492, 228, 202, 240, 129, 298, 226, 470, 464,\n",
       "       425, 303, 461, 154, 332, 429, 386, 372, 340, 174, 136, 109,  59,\n",
       "       125,  82, 477, 388,   9, 201, 207, 475, 329, 227, 125,  13, 122,\n",
       "        22, 397, 274, 349, 486,  56, 449, 125, 473,  48, 369, 289,  49,\n",
       "       495, 262, 129, 392, 280, 138,  49, 363, 318,  94, 334, 291, 238,\n",
       "       179, 149, 501, 441, 423, 256, 470, 457, 392, 228, 358, 168, 306,\n",
       "       123, 264, 362, 152, 461, 494, 456, 257, 245, 382, 237, 223, 163,\n",
       "       139, 409, 210, 138,  13, 348, 172, 187, 274, 176, 149, 476, 107,\n",
       "        79, 452, 388, 438, 193, 347, 212, 331, 413, 493, 405,  80, 362,\n",
       "       275, 265, 453, 132,  73, 399, 308, 166, 164, 381, 318,  78, 133,\n",
       "       348, 169, 162,  90,  57, 364, 277, 250, 349,  53, 436, 503, 206,\n",
       "        54, 305, 474, 226, 396, 179,  72, 389, 272, 118, 132,  26, 287,\n",
       "       130, 239, 129, 303,   6, 168,  24, 441, 158, 336, 220, 169,  11,\n",
       "       213, 276, 111, 178, 418, 216, 504, 419, 379, 287, 119, 364, 396,\n",
       "       421, 179, 121,  61, 346, 384, 281,  79, 501, 146,  41, 171, 230,\n",
       "        61,   4, 463, 316,  31, 123, 304, 388, 296, 501, 151,  96, 364,\n",
       "       224,  24, 326, 154, 187, 327, 292, 146, 398, 488, 190, 125, 332,\n",
       "       362, 181,  47, 250, 368, 379, 106, 401, 504, 413,  43, 428, 248,\n",
       "       489, 319,  80, 204, 465, 275, 385, 288, 279, 459, 266, 120, 124,\n",
       "       379, 440, 116,  88, 175, 158, 374, 456,  64, 428, 419, 357,  33,\n",
       "       248, 270, 178,  97, 248, 193, 507, 118, 416, 305, 239, 320, 251,\n",
       "       119,  11, 369, 199, 152,  61, 107, 405, 389,  75,   4, 491, 356,\n",
       "       297, 126, 476, 434, 233, 122, 348, 230,  31, 164, 246, 385,  19,\n",
       "       155, 107, 105, 170, 125, 167, 505, 443, 284, 150, 256,  63], dtype=int64)"
      ]
     },
     "execution_count": 79,
     "metadata": {},
     "output_type": "execute_result"
    }
   ],
   "source": [
    "centers[:,1]"
   ]
  },
  {
   "cell_type": "code",
   "execution_count": 61,
   "metadata": {},
   "outputs": [],
   "source": [
    "PSF = pd.concat([x[0] for x in data])\n",
    "PSF['Max'] = maxima\n",
    "PSF = PSF.reset_index().drop(['index'],axis=1)\n",
    "latProfile = [x[1] for x in data]\n",
    "axProfile = [x[2] for x in data]"
   ]
  },
  {
   "cell_type": "code",
   "execution_count": null,
   "metadata": {
    "collapsed": true
   },
   "outputs": [],
   "source": []
  },
  {
   "cell_type": "code",
   "execution_count": 42,
   "metadata": {
    "scrolled": false
   },
   "outputs": [
    {
     "data": {
      "text/html": [
       "<div>\n",
       "<style>\n",
       "    .dataframe thead tr:only-child th {\n",
       "        text-align: right;\n",
       "    }\n",
       "\n",
       "    .dataframe thead th {\n",
       "        text-align: left;\n",
       "    }\n",
       "\n",
       "    .dataframe tbody tr th {\n",
       "        vertical-align: top;\n",
       "    }\n",
       "</style>\n",
       "<table border=\"1\" class=\"dataframe\">\n",
       "  <thead>\n",
       "    <tr style=\"text-align: right;\">\n",
       "      <th></th>\n",
       "      <th>FWHMlat</th>\n",
       "      <th>FWHMax</th>\n",
       "      <th>Max</th>\n",
       "    </tr>\n",
       "  </thead>\n",
       "  <tbody>\n",
       "    <tr>\n",
       "      <th>0</th>\n",
       "      <td>2.301511</td>\n",
       "      <td>3.959836</td>\n",
       "      <td>2202</td>\n",
       "    </tr>\n",
       "    <tr>\n",
       "      <th>1</th>\n",
       "      <td>2.530309</td>\n",
       "      <td>4.592542</td>\n",
       "      <td>6525</td>\n",
       "    </tr>\n",
       "    <tr>\n",
       "      <th>2</th>\n",
       "      <td>2.341045</td>\n",
       "      <td>5.560264</td>\n",
       "      <td>7536</td>\n",
       "    </tr>\n",
       "    <tr>\n",
       "      <th>3</th>\n",
       "      <td>2.626640</td>\n",
       "      <td>6.372449</td>\n",
       "      <td>4144</td>\n",
       "    </tr>\n",
       "    <tr>\n",
       "      <th>4</th>\n",
       "      <td>2.386020</td>\n",
       "      <td>4.508863</td>\n",
       "      <td>8703</td>\n",
       "    </tr>\n",
       "    <tr>\n",
       "      <th>5</th>\n",
       "      <td>2.499002</td>\n",
       "      <td>5.701646</td>\n",
       "      <td>7633</td>\n",
       "    </tr>\n",
       "    <tr>\n",
       "      <th>6</th>\n",
       "      <td>2.621740</td>\n",
       "      <td>4.892414</td>\n",
       "      <td>7768</td>\n",
       "    </tr>\n",
       "    <tr>\n",
       "      <th>7</th>\n",
       "      <td>2.409213</td>\n",
       "      <td>3.944456</td>\n",
       "      <td>10229</td>\n",
       "    </tr>\n",
       "    <tr>\n",
       "      <th>8</th>\n",
       "      <td>2.517862</td>\n",
       "      <td>5.551318</td>\n",
       "      <td>7032</td>\n",
       "    </tr>\n",
       "    <tr>\n",
       "      <th>9</th>\n",
       "      <td>2.335618</td>\n",
       "      <td>5.949138</td>\n",
       "      <td>4944</td>\n",
       "    </tr>\n",
       "    <tr>\n",
       "      <th>10</th>\n",
       "      <td>2.515901</td>\n",
       "      <td>4.290232</td>\n",
       "      <td>7073</td>\n",
       "    </tr>\n",
       "    <tr>\n",
       "      <th>11</th>\n",
       "      <td>2.373425</td>\n",
       "      <td>5.781358</td>\n",
       "      <td>7123</td>\n",
       "    </tr>\n",
       "    <tr>\n",
       "      <th>12</th>\n",
       "      <td>2.490540</td>\n",
       "      <td>5.714837</td>\n",
       "      <td>8679</td>\n",
       "    </tr>\n",
       "    <tr>\n",
       "      <th>13</th>\n",
       "      <td>2.579208</td>\n",
       "      <td>4.765382</td>\n",
       "      <td>6969</td>\n",
       "    </tr>\n",
       "    <tr>\n",
       "      <th>14</th>\n",
       "      <td>2.407463</td>\n",
       "      <td>4.179228</td>\n",
       "      <td>8659</td>\n",
       "    </tr>\n",
       "    <tr>\n",
       "      <th>15</th>\n",
       "      <td>2.329993</td>\n",
       "      <td>4.600070</td>\n",
       "      <td>7455</td>\n",
       "    </tr>\n",
       "    <tr>\n",
       "      <th>16</th>\n",
       "      <td>2.320138</td>\n",
       "      <td>5.876347</td>\n",
       "      <td>6261</td>\n",
       "    </tr>\n",
       "    <tr>\n",
       "      <th>17</th>\n",
       "      <td>2.409367</td>\n",
       "      <td>5.437094</td>\n",
       "      <td>9025</td>\n",
       "    </tr>\n",
       "    <tr>\n",
       "      <th>18</th>\n",
       "      <td>2.362950</td>\n",
       "      <td>5.582655</td>\n",
       "      <td>6886</td>\n",
       "    </tr>\n",
       "    <tr>\n",
       "      <th>19</th>\n",
       "      <td>2.505284</td>\n",
       "      <td>7.176020</td>\n",
       "      <td>6241</td>\n",
       "    </tr>\n",
       "    <tr>\n",
       "      <th>20</th>\n",
       "      <td>2.433138</td>\n",
       "      <td>6.960877</td>\n",
       "      <td>6834</td>\n",
       "    </tr>\n",
       "    <tr>\n",
       "      <th>21</th>\n",
       "      <td>2.476384</td>\n",
       "      <td>4.969902</td>\n",
       "      <td>6733</td>\n",
       "    </tr>\n",
       "    <tr>\n",
       "      <th>22</th>\n",
       "      <td>2.445809</td>\n",
       "      <td>8.178606</td>\n",
       "      <td>4620</td>\n",
       "    </tr>\n",
       "    <tr>\n",
       "      <th>23</th>\n",
       "      <td>2.614651</td>\n",
       "      <td>6.057474</td>\n",
       "      <td>5899</td>\n",
       "    </tr>\n",
       "    <tr>\n",
       "      <th>24</th>\n",
       "      <td>2.379349</td>\n",
       "      <td>5.617913</td>\n",
       "      <td>6278</td>\n",
       "    </tr>\n",
       "    <tr>\n",
       "      <th>25</th>\n",
       "      <td>2.637693</td>\n",
       "      <td>4.459170</td>\n",
       "      <td>7091</td>\n",
       "    </tr>\n",
       "    <tr>\n",
       "      <th>26</th>\n",
       "      <td>2.520681</td>\n",
       "      <td>6.675136</td>\n",
       "      <td>12100</td>\n",
       "    </tr>\n",
       "    <tr>\n",
       "      <th>27</th>\n",
       "      <td>2.322398</td>\n",
       "      <td>5.589369</td>\n",
       "      <td>6866</td>\n",
       "    </tr>\n",
       "    <tr>\n",
       "      <th>28</th>\n",
       "      <td>2.481625</td>\n",
       "      <td>6.853523</td>\n",
       "      <td>5201</td>\n",
       "    </tr>\n",
       "    <tr>\n",
       "      <th>29</th>\n",
       "      <td>2.634071</td>\n",
       "      <td>6.657359</td>\n",
       "      <td>4393</td>\n",
       "    </tr>\n",
       "    <tr>\n",
       "      <th>...</th>\n",
       "      <td>...</td>\n",
       "      <td>...</td>\n",
       "      <td>...</td>\n",
       "    </tr>\n",
       "    <tr>\n",
       "      <th>94</th>\n",
       "      <td>2.661421</td>\n",
       "      <td>6.148202</td>\n",
       "      <td>6684</td>\n",
       "    </tr>\n",
       "    <tr>\n",
       "      <th>95</th>\n",
       "      <td>2.766598</td>\n",
       "      <td>4.386105</td>\n",
       "      <td>12562</td>\n",
       "    </tr>\n",
       "    <tr>\n",
       "      <th>96</th>\n",
       "      <td>2.492833</td>\n",
       "      <td>5.579768</td>\n",
       "      <td>7542</td>\n",
       "    </tr>\n",
       "    <tr>\n",
       "      <th>97</th>\n",
       "      <td>2.498977</td>\n",
       "      <td>5.128338</td>\n",
       "      <td>7355</td>\n",
       "    </tr>\n",
       "    <tr>\n",
       "      <th>98</th>\n",
       "      <td>2.590795</td>\n",
       "      <td>6.008920</td>\n",
       "      <td>5628</td>\n",
       "    </tr>\n",
       "    <tr>\n",
       "      <th>99</th>\n",
       "      <td>2.542181</td>\n",
       "      <td>4.922014</td>\n",
       "      <td>7956</td>\n",
       "    </tr>\n",
       "    <tr>\n",
       "      <th>100</th>\n",
       "      <td>2.592655</td>\n",
       "      <td>5.780783</td>\n",
       "      <td>4079</td>\n",
       "    </tr>\n",
       "    <tr>\n",
       "      <th>101</th>\n",
       "      <td>2.641892</td>\n",
       "      <td>6.091082</td>\n",
       "      <td>4349</td>\n",
       "    </tr>\n",
       "    <tr>\n",
       "      <th>102</th>\n",
       "      <td>2.602084</td>\n",
       "      <td>4.780496</td>\n",
       "      <td>7423</td>\n",
       "    </tr>\n",
       "    <tr>\n",
       "      <th>103</th>\n",
       "      <td>2.738227</td>\n",
       "      <td>5.352009</td>\n",
       "      <td>5632</td>\n",
       "    </tr>\n",
       "    <tr>\n",
       "      <th>104</th>\n",
       "      <td>2.557709</td>\n",
       "      <td>4.917195</td>\n",
       "      <td>4174</td>\n",
       "    </tr>\n",
       "    <tr>\n",
       "      <th>105</th>\n",
       "      <td>2.459479</td>\n",
       "      <td>4.081331</td>\n",
       "      <td>6804</td>\n",
       "    </tr>\n",
       "    <tr>\n",
       "      <th>106</th>\n",
       "      <td>2.504169</td>\n",
       "      <td>5.804218</td>\n",
       "      <td>6007</td>\n",
       "    </tr>\n",
       "    <tr>\n",
       "      <th>107</th>\n",
       "      <td>2.496292</td>\n",
       "      <td>4.032352</td>\n",
       "      <td>8780</td>\n",
       "    </tr>\n",
       "    <tr>\n",
       "      <th>108</th>\n",
       "      <td>2.475800</td>\n",
       "      <td>7.741132</td>\n",
       "      <td>5322</td>\n",
       "    </tr>\n",
       "    <tr>\n",
       "      <th>109</th>\n",
       "      <td>2.551882</td>\n",
       "      <td>5.809420</td>\n",
       "      <td>6318</td>\n",
       "    </tr>\n",
       "    <tr>\n",
       "      <th>110</th>\n",
       "      <td>2.500114</td>\n",
       "      <td>5.075862</td>\n",
       "      <td>6372</td>\n",
       "    </tr>\n",
       "    <tr>\n",
       "      <th>111</th>\n",
       "      <td>2.706006</td>\n",
       "      <td>3.903754</td>\n",
       "      <td>6435</td>\n",
       "    </tr>\n",
       "    <tr>\n",
       "      <th>112</th>\n",
       "      <td>2.756549</td>\n",
       "      <td>5.483873</td>\n",
       "      <td>4510</td>\n",
       "    </tr>\n",
       "    <tr>\n",
       "      <th>113</th>\n",
       "      <td>2.784980</td>\n",
       "      <td>3.572145</td>\n",
       "      <td>7378</td>\n",
       "    </tr>\n",
       "    <tr>\n",
       "      <th>114</th>\n",
       "      <td>2.583121</td>\n",
       "      <td>5.337216</td>\n",
       "      <td>4551</td>\n",
       "    </tr>\n",
       "    <tr>\n",
       "      <th>115</th>\n",
       "      <td>2.562675</td>\n",
       "      <td>3.149422</td>\n",
       "      <td>5539</td>\n",
       "    </tr>\n",
       "    <tr>\n",
       "      <th>116</th>\n",
       "      <td>2.486766</td>\n",
       "      <td>5.887662</td>\n",
       "      <td>8177</td>\n",
       "    </tr>\n",
       "    <tr>\n",
       "      <th>117</th>\n",
       "      <td>2.708589</td>\n",
       "      <td>6.472728</td>\n",
       "      <td>5066</td>\n",
       "    </tr>\n",
       "    <tr>\n",
       "      <th>118</th>\n",
       "      <td>2.521876</td>\n",
       "      <td>5.701908</td>\n",
       "      <td>7653</td>\n",
       "    </tr>\n",
       "    <tr>\n",
       "      <th>119</th>\n",
       "      <td>2.485456</td>\n",
       "      <td>5.071402</td>\n",
       "      <td>5953</td>\n",
       "    </tr>\n",
       "    <tr>\n",
       "      <th>120</th>\n",
       "      <td>2.514447</td>\n",
       "      <td>6.227571</td>\n",
       "      <td>7047</td>\n",
       "    </tr>\n",
       "    <tr>\n",
       "      <th>121</th>\n",
       "      <td>2.662508</td>\n",
       "      <td>5.054537</td>\n",
       "      <td>5974</td>\n",
       "    </tr>\n",
       "    <tr>\n",
       "      <th>122</th>\n",
       "      <td>2.636613</td>\n",
       "      <td>6.343008</td>\n",
       "      <td>5231</td>\n",
       "    </tr>\n",
       "    <tr>\n",
       "      <th>123</th>\n",
       "      <td>2.774737</td>\n",
       "      <td>6.106144</td>\n",
       "      <td>4845</td>\n",
       "    </tr>\n",
       "  </tbody>\n",
       "</table>\n",
       "<p>124 rows × 3 columns</p>\n",
       "</div>"
      ],
      "text/plain": [
       "      FWHMlat    FWHMax    Max\n",
       "0    2.301511  3.959836   2202\n",
       "1    2.530309  4.592542   6525\n",
       "2    2.341045  5.560264   7536\n",
       "3    2.626640  6.372449   4144\n",
       "4    2.386020  4.508863   8703\n",
       "5    2.499002  5.701646   7633\n",
       "6    2.621740  4.892414   7768\n",
       "7    2.409213  3.944456  10229\n",
       "8    2.517862  5.551318   7032\n",
       "9    2.335618  5.949138   4944\n",
       "10   2.515901  4.290232   7073\n",
       "11   2.373425  5.781358   7123\n",
       "12   2.490540  5.714837   8679\n",
       "13   2.579208  4.765382   6969\n",
       "14   2.407463  4.179228   8659\n",
       "15   2.329993  4.600070   7455\n",
       "16   2.320138  5.876347   6261\n",
       "17   2.409367  5.437094   9025\n",
       "18   2.362950  5.582655   6886\n",
       "19   2.505284  7.176020   6241\n",
       "20   2.433138  6.960877   6834\n",
       "21   2.476384  4.969902   6733\n",
       "22   2.445809  8.178606   4620\n",
       "23   2.614651  6.057474   5899\n",
       "24   2.379349  5.617913   6278\n",
       "25   2.637693  4.459170   7091\n",
       "26   2.520681  6.675136  12100\n",
       "27   2.322398  5.589369   6866\n",
       "28   2.481625  6.853523   5201\n",
       "29   2.634071  6.657359   4393\n",
       "..        ...       ...    ...\n",
       "94   2.661421  6.148202   6684\n",
       "95   2.766598  4.386105  12562\n",
       "96   2.492833  5.579768   7542\n",
       "97   2.498977  5.128338   7355\n",
       "98   2.590795  6.008920   5628\n",
       "99   2.542181  4.922014   7956\n",
       "100  2.592655  5.780783   4079\n",
       "101  2.641892  6.091082   4349\n",
       "102  2.602084  4.780496   7423\n",
       "103  2.738227  5.352009   5632\n",
       "104  2.557709  4.917195   4174\n",
       "105  2.459479  4.081331   6804\n",
       "106  2.504169  5.804218   6007\n",
       "107  2.496292  4.032352   8780\n",
       "108  2.475800  7.741132   5322\n",
       "109  2.551882  5.809420   6318\n",
       "110  2.500114  5.075862   6372\n",
       "111  2.706006  3.903754   6435\n",
       "112  2.756549  5.483873   4510\n",
       "113  2.784980  3.572145   7378\n",
       "114  2.583121  5.337216   4551\n",
       "115  2.562675  3.149422   5539\n",
       "116  2.486766  5.887662   8177\n",
       "117  2.708589  6.472728   5066\n",
       "118  2.521876  5.701908   7653\n",
       "119  2.485456  5.071402   5953\n",
       "120  2.514447  6.227571   7047\n",
       "121  2.662508  5.054537   5974\n",
       "122  2.636613  6.343008   5231\n",
       "123  2.774737  6.106144   4845\n",
       "\n",
       "[124 rows x 3 columns]"
      ]
     },
     "execution_count": 42,
     "metadata": {},
     "output_type": "execute_result"
    }
   ],
   "source": [
    "PSF"
   ]
  },
  {
   "cell_type": "code",
   "execution_count": 62,
   "metadata": {},
   "outputs": [
    {
     "name": "stdout",
     "output_type": "stream",
     "text": [
      "519\n",
      "FWHMlat       2.568542\n",
      "FWHMax        5.915371\n",
      "Max        7105.863198\n",
      "dtype: float64\n",
      "FWHMlat       0.543817\n",
      "FWHMax        1.078310\n",
      "Max        2349.298336\n",
      "dtype: float64\n"
     ]
    }
   ],
   "source": [
    "print(len(PSF))\n",
    "print(PSF.mean())\n",
    "print(PSF.std())"
   ]
  },
  {
   "cell_type": "markdown",
   "metadata": {},
   "source": [
    "## Plot max projection"
   ]
  },
  {
   "cell_type": "code",
   "execution_count": 72,
   "metadata": {
    "scrolled": false
   },
   "outputs": [
    {
     "data": {
      "image/png": "[encoded data removed]",
      "text/plain": [
       "<matplotlib.figure.Figure at 0xf639c18>"
      ]
     },
     "metadata": {},
     "output_type": "display_data"
    }
   ],
   "source": [
    "plt.figure(figsize=(5,5));\n",
    "plt.imshow(smoothed);\n",
    "plt.plot(centers[:, 2], centers[:, 1], 'r.', ms=5);\n",
    "plt.xlim([0, smoothed.shape[0]])\n",
    "plt.ylim([smoothed.shape[1], 0])\n",
    "plt.axis('off');"
   ]
  },
  {
   "cell_type": "code",
   "execution_count": 73,
   "metadata": {
    "scrolled": false
   },
   "outputs": [
    {
     "data": {
      "text/plain": [
       "array([[488, 247,  98],\n",
       "       [486, 140, 148],\n",
       "       [484, 376, 394],\n",
       "       ..., \n",
       "       [ 15, 150,  18],\n",
       "       [ 14, 256, 399],\n",
       "       [ 13,  63,  58]], dtype=int64)"
      ]
     },
     "execution_count": 73,
     "metadata": {},
     "output_type": "execute_result"
    }
   ],
   "source": [
    "centers"
   ]
  },
  {
   "cell_type": "code",
   "execution_count": 82,
   "metadata": {},
   "outputs": [
    {
     "data": {
      "text/plain": [
       "519"
      ]
     },
     "execution_count": 82,
     "metadata": {},
     "output_type": "execute_result"
    }
   ],
   "source": [
    "len(centers)"
   ]
  },
  {
   "cell_type": "code",
   "execution_count": 90,
   "metadata": {
    "collapsed": true
   },
   "outputs": [],
   "source": [
    "Ycenters = centers[:,1]\n",
    "Xcenters = centers[:,2]"
   ]
  },
  {
   "cell_type": "code",
   "execution_count": 89,
   "metadata": {},
   "outputs": [],
   "source": [
    "axPSF = PSF['FWHMax']"
   ]
  },
  {
   "cell_type": "code",
   "execution_count": 98,
   "metadata": {},
   "outputs": [
    {
     "data": {
      "text/plain": [
       "[<matplotlib.lines.Line2D at 0x11ad1320>]"
      ]
     },
     "execution_count": 98,
     "metadata": {},
     "output_type": "execute_result"
    },
    {
     "data": {
      "image/png": "[encoded data removed]",
      "text/plain": [
       "<matplotlib.figure.Figure at 0x11a937f0>"
      ]
     },
     "metadata": {},
     "output_type": "display_data"
    }
   ],
   "source": [
    "plt.plot(Ycenters,axPSF,'.')"
   ]
  },
  {
   "cell_type": "markdown",
   "metadata": {},
   "source": [
    "## Plot max projection"
   ]
  },
  {
   "cell_type": "code",
   "execution_count": 64,
   "metadata": {},
   "outputs": [],
   "source": [
    "beadInd = 14\n",
    "average = beads[beadInd]"
   ]
  },
  {
   "cell_type": "code",
   "execution_count": 20,
   "metadata": {},
   "outputs": [
    {
     "data": {
      "application/vnd.jupyter.widget-view+json": {
       "model_id": "83cbe6a9e2194c69b6af29a52ad2aad0",
       "version_major": 2,
       "version_minor": 0
      },
      "text/plain": [
       "A Jupyter Widget"
      ]
     },
     "metadata": {},
     "output_type": "display_data"
    }
   ],
   "source": [
    "plane = IntSlider(min=0, max=average.shape[0]-1, step=1, value=average.shape[0]/2)\n",
    "interactive(average, i=plane)"
   ]
  },
  {
   "cell_type": "markdown",
   "metadata": {},
   "source": [
    "## Plot 2D slices"
   ]
  },
  {
   "cell_type": "code",
   "execution_count": 65,
   "metadata": {},
   "outputs": [
    {
     "data": {
      "image/png": "[encoded data removed]",
      "text/plain": [
       "<matplotlib.figure.Figure at 0xf2db898>"
      ]
     },
     "metadata": {},
     "output_type": "display_data"
    }
   ],
   "source": [
    "plt.imshow(average.mean(axis=0));\n",
    "plt.axis('on');"
   ]
  },
  {
   "cell_type": "code",
   "execution_count": 66,
   "metadata": {},
   "outputs": [
    {
     "data": {
      "image/png": "[encoded data removed]",
      "text/plain": [
       "<matplotlib.figure.Figure at 0xf601908>"
      ]
     },
     "metadata": {},
     "output_type": "display_data"
    }
   ],
   "source": [
    "plt.imshow(average.mean(axis=1), aspect = pxPerUmLat/pxPerUmAx);\n",
    "plt.axis('off');"
   ]
  },
  {
   "cell_type": "code",
   "execution_count": 67,
   "metadata": {},
   "outputs": [
    {
     "data": {
      "image/png": "[encoded data removed]",
      "text/plain": [
       "<matplotlib.figure.Figure at 0xf59e4a8>"
      ]
     },
     "metadata": {},
     "output_type": "display_data"
    }
   ],
   "source": [
    "plt.imshow(average.mean(axis=2), aspect = pxPerUmLat/pxPerUmAx);\n",
    "plt.axis('off');"
   ]
  },
  {
   "cell_type": "markdown",
   "metadata": {},
   "source": [
    "## Plotting"
   ]
  },
  {
   "cell_type": "code",
   "execution_count": 68,
   "metadata": {
    "scrolled": true
   },
   "outputs": [
    {
     "data": {
      "image/png": "[encoded data removed]",
      "text/plain": [
       "<matplotlib.figure.Figure at 0xf345898>"
      ]
     },
     "metadata": {},
     "output_type": "display_data"
    }
   ],
   "source": [
    "plotPSF(latProfile[beadInd][0],latProfile[beadInd][1],latProfile[beadInd][2],latProfile[beadInd][3],pxPerUmLat,PSF.Max.iloc[beadInd])"
   ]
  },
  {
   "cell_type": "code",
   "execution_count": 69,
   "metadata": {},
   "outputs": [
    {
     "data": {
      "image/png": "[encoded data removed]",
      "text/plain": [
       "<matplotlib.figure.Figure at 0x132afef0>"
      ]
     },
     "metadata": {},
     "output_type": "display_data"
    }
   ],
   "source": [
    "plotPSF(axProfile[beadInd][0],axProfile[beadInd][1],axProfile[beadInd][2],axProfile[beadInd][3],pxPerUmAx,PSF.Max.iloc[beadInd])"
   ]
  },
  {
   "cell_type": "code",
   "execution_count": null,
   "metadata": {
    "collapsed": true
   },
   "outputs": [],
   "source": []
  }
 ],
 "metadata": {
  "anaconda-cloud": {},
  "kernelspec": {
   "display_name": "Python 3",
   "language": "python",
   "name": "python3"
  },
  "language_info": {
   "codemirror_mode": {
    "name": "ipython",
    "version": 3
   },
   "file_extension": ".py",
   "mimetype": "text/x-python",
   "name": "python",
   "nbconvert_exporter": "python",
   "pygments_lexer": "ipython3",
   "version": "3.6.3"
  }
 },
 "nbformat": 4,
 "nbformat_minor": 1
}
