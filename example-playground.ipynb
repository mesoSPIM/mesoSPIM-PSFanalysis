{
 "cells": [
  {
   "cell_type": "markdown",
   "metadata": {},
   "source": [
    "# mesoSPIM PSF-analysis\n",
    "\n",
    "Currently, this analysis notebook needs a stack with beads converted to `.tif`-files. pixel-size and zoom have to be set manually.\n",
    "\n",
    "### Setup environment"
   ]
  },
  {
   "cell_type": "code",
   "execution_count": 1,
   "metadata": {},
   "outputs": [],
   "source": [
    "import numpy as np\n",
    "import pandas as pd\n",
    "from skimage.io import imread, find_available_plugins"
   ]
  },
  {
   "cell_type": "code",
   "execution_count": 2,
   "metadata": {},
   "outputs": [],
   "source": [
    "from psf import compute, plotPSF"
   ]
  },
  {
   "cell_type": "markdown",
   "metadata": {},
   "source": [
    "### Setup plotting"
   ]
  },
  {
   "cell_type": "code",
   "execution_count": 3,
   "metadata": {},
   "outputs": [],
   "source": [
    "import matplotlib.pyplot as plt\n",
    "%matplotlib inline\n",
    "import seaborn as sns\n",
    "sns.set_context('paper', font_scale=2.0)\n",
    "sns.set_style('ticks')"
   ]
  },
  {
   "cell_type": "code",
   "execution_count": 4,
   "metadata": {},
   "outputs": [],
   "source": [
    "from ipywidgets import interact\n",
    "from ipywidgets import IntSlider"
   ]
  },
  {
   "cell_type": "markdown",
   "metadata": {},
   "source": [
    "### Define parameters"
   ]
  },
  {
   "cell_type": "markdown",
   "metadata": {},
   "source": [
    "`windowUm = [12, 10, 10]` defines a \"window\" volume in microns in which only a single bead can exist (for the bead to be included in the analysis, the volume has to contain a single bright maximum)."
   ]
  },
  {
   "cell_type": "code",
   "execution_count": null,
   "metadata": {},
   "outputs": [],
   "source": [
    "# Full FOV\n",
    "FOVpxLat = 2048.0 # 2048\n",
    "UmPerPxLat = 1.6\n",
    "pxPerUmLat = 1/UmPerPxLat\n",
    "FOVumLat = FOVpxLat / pxPerUmLat\n",
    "pxPerUmAx = 1.0 # 1.0\n",
    "windowUm = [12, 10, 10]\n",
    "options = {'FOVumLat':FOVumLat, 'FOVpxLat':FOVpxLat, 'pxPerUmLat':FOVpxLat/FOVumLat, 'pxPerUmAx':pxPerUmAx, 'windowUm':windowUm}\n",
    "options['thresh'] = .05"
   ]
  },
  {
   "cell_type": "code",
   "execution_count": 5,
   "metadata": {},
   "outputs": [],
   "source": [
    "# 1/4 FOV\n",
    "FOVpxLat = 512.0 # 2048\n",
    "UmPerPxLat = 1.6\n",
    "pxPerUmLat = 1/UmPerPxLat\n",
    "FOVumLat = FOVpxLat / pxPerUmLat\n",
    "pxPerUmAx = 1.0 # 1.0\n",
    "windowUm = [20, 5, 5]\n",
    "options = {'FOVumLat':FOVumLat, 'FOVpxLat':FOVpxLat, 'pxPerUmLat':FOVpxLat/FOVumLat, 'pxPerUmAx':pxPerUmAx, 'windowUm':windowUm}\n",
    "options['thresh'] = .05"
   ]
  },
  {
   "cell_type": "code",
   "execution_count": null,
   "metadata": {},
   "outputs": [],
   "source": [
    "options"
   ]
  },
  {
   "cell_type": "markdown",
   "metadata": {},
   "source": [
    "### Load data"
   ]
  },
  {
   "cell_type": "code",
   "execution_count": null,
   "metadata": {},
   "outputs": [],
   "source": [
    "im = imread('./data/images.tif', plugin='tifffile') # old testdata"
   ]
  },
  {
   "cell_type": "code",
   "execution_count": null,
   "metadata": {},
   "outputs": [],
   "source": [
    "im = imread('./data/test2-withETL.tif', plugin='tifffile') # 512 px testdata"
   ]
  },
  {
   "cell_type": "code",
   "execution_count": null,
   "metadata": {},
   "outputs": [],
   "source": [
    "im = imread('./data/test2-withETL.tif') # 512 px testdata"
   ]
  },
  {
   "cell_type": "code",
   "execution_count": null,
   "metadata": {},
   "outputs": [],
   "source": [
    "im = imread('./data/5ms_2nd_488_nm_508_520-35_4x_Right_000000-3-200slices.tif', plugin='tifffile')  # 2048 px testdata"
   ]
  },
  {
   "cell_type": "code",
   "execution_count": null,
   "metadata": {},
   "outputs": [],
   "source": [
    "im = imread('./data/5ms_2nd_noETL_488_nm_508_520-35_4x_Right_000000-2-200slices.tif', plugin='tifffile')  # 2048 px testdata"
   ]
  },
  {
   "cell_type": "markdown",
   "metadata": {},
   "source": [
    "### Compute"
   ]
  },
  {
   "cell_type": "code",
   "execution_count": null,
   "metadata": {},
   "outputs": [],
   "source": [
    "data, beads, maxima, centers, smoothed = compute(im, options)"
   ]
  },
  {
   "cell_type": "code",
   "execution_count": null,
   "metadata": {},
   "outputs": [],
   "source": [
    "centers = pd.DataFrame(centers, columns=['Z','Y','X'])"
   ]
  },
  {
   "cell_type": "code",
   "execution_count": null,
   "metadata": {},
   "outputs": [],
   "source": [
    "PSF = pd.concat([x[0] for x in data])\n",
    "PSF['Max'] = maxima\n",
    "PSF = PSF.reset_index().drop(['index'],axis=1)\n",
    "latProfile = [x[1] for x in data]\n",
    "axProfile = [x[2] for x in data]\n",
    "PSF = PSF.join(centers)"
   ]
  },
  {
   "cell_type": "markdown",
   "metadata": {},
   "source": [
    "### Inspect results"
   ]
  },
  {
   "cell_type": "code",
   "execution_count": null,
   "metadata": {
    "scrolled": true
   },
   "outputs": [],
   "source": [
    "PSF.head()"
   ]
  },
  {
   "cell_type": "code",
   "execution_count": null,
   "metadata": {
    "scrolled": true
   },
   "outputs": [],
   "source": [
    "print('# Beads: ', len(PSF))\n",
    "print('Mean Lateral FWHM: ', round(PSF['FWHMlat'].mean(),3), ' +/- ', round(PSF['FWHMlat'].sem(),3), ' μm')\n",
    "#print('STD lateral FWHM: ', round(PSF['FWHMlat'].std(),3))\n",
    "print('Mean axial FWHM: ', round(PSF['FWHMax'].mean(),3), ' +/- ', round(PSF['FWHMax'].sem(),3), ' μm')\n",
    "#print('STD axial FWHM: ', round(PSF['FWHMax'].std(),3))"
   ]
  },
  {
   "cell_type": "markdown",
   "metadata": {},
   "source": [
    "### Plot axial FWHM vs. FOV"
   ]
  },
  {
   "cell_type": "code",
   "execution_count": null,
   "metadata": {
    "scrolled": true
   },
   "outputs": [],
   "source": [
    "%matplotlib inline\n",
    "fig = plt.figure(figsize=(15,10));\n",
    "\n",
    "subfigure0 = fig.add_subplot(211)\n",
    "subfigure0.plot(np.multiply(PSF['Y'].tolist(),UmPerPxLat),PSF['FWHMax'].tolist(),'.b',ms=10)\n",
    "subfigure0.set_xlim([0,options['FOVumLat']])\n",
    "subfigure0.set_ylim([0,25])\n",
    "subfigure0.set_xlabel('Y Distance (μm)')\n",
    "subfigure0.set_ylabel('Axial FWHM (μm)')\n",
    "\n",
    "subfigure1 = fig.add_subplot(212)\n",
    "subfigure1.plot(np.multiply(PSF['X'].tolist(),UmPerPxLat),PSF['FWHMax'].tolist(),'.r',ms=10)\n",
    "subfigure1.set_xlim([0,options['FOVumLat']])\n",
    "subfigure1.set_ylim([0,25])\n",
    "subfigure1.set_xlabel('X Distance (μm)')\n",
    "subfigure1.set_ylabel('Axial FWHM (μm)')\n",
    "\n",
    "plt.subplots_adjust(hspace = 0.3)"
   ]
  },
  {
   "cell_type": "markdown",
   "metadata": {},
   "source": [
    "### Save data and plots"
   ]
  },
  {
   "cell_type": "code",
   "execution_count": null,
   "metadata": {},
   "outputs": [],
   "source": [
    "PSF.to_csv('results/WithETL.csv')"
   ]
  },
  {
   "cell_type": "code",
   "execution_count": null,
   "metadata": {},
   "outputs": [],
   "source": [
    "fig.savefig('results/ETL-Comparision.eps', facecolor=fig.get_facecolor(), edgecolor='none',dpi=200)\n",
    "fig.savefig('results/ETL-Comparision.svg', facecolor=fig.get_facecolor(), edgecolor='none',dpi=200)"
   ]
  },
  {
   "cell_type": "markdown",
   "metadata": {},
   "source": [
    "## Sanity checks"
   ]
  },
  {
   "cell_type": "markdown",
   "metadata": {},
   "source": [
    "### Plot max projection and detected beads"
   ]
  },
  {
   "cell_type": "code",
   "execution_count": null,
   "metadata": {},
   "outputs": [],
   "source": [
    "plt.figure(figsize=(10,10));\n",
    "plt.imshow(smoothed);\n",
    "plt.plot(PSF['X'].tolist(), PSF['Y'].tolist(), 'g.', ms=5);\n",
    "plt.xlim([0, smoothed.shape[0]])\n",
    "plt.ylim([smoothed.shape[1], 0])\n",
    "plt.axis('off'); "
   ]
  },
  {
   "cell_type": "markdown",
   "metadata": {},
   "source": [
    "### Axial and lateral FWHM Histogram"
   ]
  },
  {
   "cell_type": "code",
   "execution_count": null,
   "metadata": {
    "scrolled": false
   },
   "outputs": [],
   "source": [
    "fig = plt.figure(figsize=(10,5))\n",
    "subfigure0 = fig.add_subplot(121)\n",
    "subfigure0.hist(PSF['FWHMax'].tolist())\n",
    "subfigure0.set_xlabel('Axial FWHM (μm)')\n",
    "subfigure0.set_ylabel('# Beads')\n",
    "subfigure0 = fig.add_subplot(122)\n",
    "subfigure0.hist(PSF['FWHMlat'].tolist())\n",
    "subfigure0.set_xlabel('Lateral FWHM (μm)')\n",
    "subfigure0.set_ylabel('# Beads')\n",
    "\n",
    "plt.subplots_adjust(wspace = 0.5)"
   ]
  },
  {
   "cell_type": "markdown",
   "metadata": {},
   "source": [
    "### Lateral vs. axial FWHM correlation"
   ]
  },
  {
   "cell_type": "code",
   "execution_count": null,
   "metadata": {},
   "outputs": [],
   "source": [
    "fig = plt.figure(figsize=(10,10))\n",
    "subfigure0 = fig.add_subplot(111)\n",
    "subfigure0.scatter(PSF['FWHMlat'].tolist(),PSF['FWHMax'].tolist())\n",
    "subfigure0.set_xlabel('Lateral FWHM (μm)')\n",
    "subfigure0.set_ylabel('Axial FWHM (μm)')"
   ]
  },
  {
   "cell_type": "markdown",
   "metadata": {},
   "source": [
    "### Overview Plots"
   ]
  },
  {
   "cell_type": "code",
   "execution_count": null,
   "metadata": {
    "scrolled": false
   },
   "outputs": [],
   "source": [
    "fig = plt.figure(figsize=(15,7.5));\n",
    "\n",
    "subfigure0 = fig.add_subplot(121)\n",
    "subfigure0.imshow(smoothed);\n",
    "overlay0 = subfigure0.scatter(PSF['X'].tolist(), PSF['Y'].tolist(), c=PSF['FWHMax'].tolist(), cmap='jet');\n",
    "subfigure0.axis('off');\n",
    "subfigure0.set_title('Axial FWHM')\n",
    "cbar0 = plt.colorbar(overlay0,fraction=0.044, pad=0.04)\n",
    "cbar0.set_label('Axial FWHM (μm)')\n",
    "\n",
    "\n",
    "subfigure1 = fig.add_subplot(122)\n",
    "subfigure1.imshow(smoothed);\n",
    "overlay1 = subfigure1.scatter(PSF['X'].tolist(), PSF['Y'].tolist(), c=PSF['FWHMlat'].tolist(), cmap='jet');\n",
    "subfigure1.axis('off');\n",
    "subfigure1.set_title('Lateral FWHM')\n",
    "cbar1 = plt.colorbar(overlay1,fraction=0.044, pad=0.04)\n",
    "cbar1.set_label('Lateral FWHM (μm)')\n"
   ]
  },
  {
   "cell_type": "markdown",
   "metadata": {},
   "source": [
    "### Plot XYZ projections and fit"
   ]
  },
  {
   "cell_type": "code",
   "execution_count": null,
   "metadata": {},
   "outputs": [],
   "source": [
    "fig = plt.figure()\n",
    "\n",
    "def update(w = 50):\n",
    "    beadInd = w\n",
    "    average = beads[beadInd]\n",
    "    \n",
    "    fig, _axs = plt.subplots(nrows=1, ncols=3)\n",
    "    axs = _axs.flatten()\n",
    "\n",
    "    XYview = axs[0].imshow(average.mean(axis=0));\n",
    "    XZview = axs[1].imshow(average.mean(axis=1), aspect = pxPerUmLat/pxPerUmAx);\n",
    "    YZview = axs[2].imshow(average.mean(axis=2), aspect = pxPerUmLat/pxPerUmAx);\n",
    "    plt.show()\n",
    "    plotPSF(latProfile[beadInd][0],latProfile[beadInd][1],latProfile[beadInd][2],latProfile[beadInd][3],pxPerUmLat,PSF.Max.iloc[beadInd])\n",
    "    plt.show()\n",
    "    plotPSF(axProfile[beadInd][0],axProfile[beadInd][1],axProfile[beadInd][2],axProfile[beadInd][3],pxPerUmAx,PSF.Max.iloc[beadInd])\n",
    "    plt.show()\n",
    "\n",
    "interact(update, w=IntSlider(min=0,max=len(PSF)-1,step=1,value=0,continuous_update=False));"
   ]
  }
 ],
 "metadata": {
  "anaconda-cloud": {},
  "kernelspec": {
   "display_name": "Python 3",
   "language": "python",
   "name": "python3"
  },
  "language_info": {
   "codemirror_mode": {
    "name": "ipython",
    "version": 3
   },
   "file_extension": ".py",
   "mimetype": "text/x-python",
   "name": "python",
   "nbconvert_exporter": "python",
   "pygments_lexer": "ipython3",
   "version": "3.6.5"
  }
 },
 "nbformat": 4,
 "nbformat_minor": 1
}
