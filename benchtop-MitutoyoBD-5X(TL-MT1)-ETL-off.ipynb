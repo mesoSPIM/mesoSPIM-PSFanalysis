{
 "cells": [
  {
   "cell_type": "markdown",
   "metadata": {},
   "source": [
    "# mesoSPIM PSF-analysis\n",
    "\n",
    "Currently, this analysis notebook needs a stack with beads converted to `.tif`-files. pixel-size and zoom have to be set manually.\n",
    "\n",
    "## Experiment setup\n",
    "- Mitutoyo BD 5X objective & MT-1 tube lens\n",
    "- Photometrics Iris 15 camera\n",
    "- 200-nm Fluorobright Yellow beads mounted in 2% agarose in CUBIC-R (n1.52) inside a 10x10x45 mm cuvette\n",
    "- cuvette is immersed in chamber filled with CUBIC matching oil (n1.51)\n",
    "- thickness of high-RI medium in detection path ~20 mm\n",
    "\n",
    "### Tips and tricks\n",
    "- LS tilt **and** tip relative to detection plane must be well aligned. Use the translation stage (mirror translation) for tilt alignment, and shims/adjustment screw for tip alignment. \n",
    "- For better LS tip/tilt alignment, go in and out of focus to visualize whole-field PSF degradation easier.\n",
    "- **chamber** tip and tilt must be also aligned to advoid astigmatism"
   ]
  },
  {
   "cell_type": "code",
   "execution_count": 1,
   "metadata": {},
   "outputs": [],
   "source": [
    "import numpy as np\n",
    "import pandas as pd\n",
    "from skimage.io import imread, find_available_plugins\n",
    "import time"
   ]
  },
  {
   "cell_type": "code",
   "execution_count": 2,
   "metadata": {},
   "outputs": [],
   "source": [
    "from psf import plotPSF, getCenters, getPSF"
   ]
  },
  {
   "cell_type": "markdown",
   "metadata": {},
   "source": [
    "### Setup plotting"
   ]
  },
  {
   "cell_type": "code",
   "execution_count": 3,
   "metadata": {},
   "outputs": [],
   "source": [
    "import matplotlib.pyplot as plt\n",
    "%matplotlib inline\n",
    "import seaborn as sns\n",
    "sns.set_context('paper', font_scale=2.0)\n",
    "sns.set_style('ticks')"
   ]
  },
  {
   "cell_type": "code",
   "execution_count": 4,
   "metadata": {},
   "outputs": [],
   "source": [
    "from ipywidgets import interact\n",
    "from ipywidgets import IntSlider"
   ]
  },
  {
   "cell_type": "markdown",
   "metadata": {},
   "source": [
    "### Define parameters"
   ]
  },
  {
   "cell_type": "markdown",
   "metadata": {},
   "source": [
    "`windowUm = [15, 15, 15]` defines a \"window\" volume in microns in which only a single bead can exist (for the bead to be included in the analysis, the volume has to contain a single bright maximum)."
   ]
  },
  {
   "cell_type": "code",
   "execution_count": 16,
   "metadata": {},
   "outputs": [
    {
     "data": {
      "text/plain": [
       "{'pxPerUmLat': 1.1764705882352942,\n",
       " 'pxPerUmAx': 1.0,\n",
       " 'windowUm': [15, 15, 15],\n",
       " 'thresh': 1000}"
      ]
     },
     "execution_count": 16,
     "metadata": {},
     "output_type": "execute_result"
    }
   ],
   "source": [
    "# Full FOV \n",
    "MAG = 5 # Nominal magniciation of te objective\n",
    "TL_f_mm = 200 # TL focal distante (200 or 180 mm)\n",
    "eff_MAG = MAG * TL_f_mm/200\n",
    "UmPerPxLat = 4.25/eff_MAG\n",
    "pxPerUmLat = 1/UmPerPxLat\n",
    "pxPerUmAx = 1.0 # between z-planes\n",
    "windowUm = [15, 15, 15] # \n",
    "options = {'pxPerUmLat':pxPerUmLat, 'pxPerUmAx':pxPerUmAx, 'windowUm':windowUm}\n",
    "options['thresh'] = 1000 #changed to abs, was relative: (0.05) \n",
    "options"
   ]
  },
  {
   "cell_type": "code",
   "execution_count": 11,
   "metadata": {},
   "outputs": [],
   "source": [
    "datafolder = \"D:\\\\benchtopData\\\\PSF\\\\2022-10-03-Mitu5X-TL-MT1-fbright200nm\\\\\"\n",
    "LENS_NAME = f\"Mitutoyo BD {MAG}x/0.14 TLf{TL_f_mm}\"\n",
    "CAMERA = \"Photometrics Iris 15\"\n",
    "sensor_dim_mm = (21.49, 12.61) # Iris 15\n",
    "freq_Hz = 99.9\n",
    "exp_ms = 20\n",
    "experiment_key = f\"{MAG}X_ETL-off\" \n",
    "datafiles = {\n",
    "    f\"{MAG}X_ETL-on\": datafolder + f\"ETL-on.tif\",\n",
    "    f\"{MAG}X_ETL-off\": datafolder + f\"ETL-off.tif\",\n",
    "}"
   ]
  },
  {
   "cell_type": "markdown",
   "metadata": {},
   "source": [
    "### Load data"
   ]
  },
  {
   "cell_type": "code",
   "execution_count": 7,
   "metadata": {},
   "outputs": [
    {
     "data": {
      "text/plain": [
       "(50, 5056, 2960)"
      ]
     },
     "execution_count": 7,
     "metadata": {},
     "output_type": "execute_result"
    }
   ],
   "source": [
    "im = imread(datafiles[experiment_key], plugin='tifffile')[:50]\n",
    "im.shape"
   ]
  },
  {
   "cell_type": "markdown",
   "metadata": {},
   "source": [
    "### Computation"
   ]
  },
  {
   "cell_type": "code",
   "execution_count": 17,
   "metadata": {},
   "outputs": [
    {
     "name": "stdout",
     "output_type": "stream",
     "text": [
      "findBeads() done: 8630 found\n",
      "centersM done\n",
      "centerDists done\n",
      "keepBeads() done: 1536 found\n",
      "getCenters() done: 1536 found\n",
      "Runtime:  95.41507267951965  s\n"
     ]
    }
   ],
   "source": [
    "start_time = time.time()\n",
    "beads, maxima, centers, smoothed = getCenters(im, options)\n",
    "stop_time = time.time()\n",
    "print('Runtime: ',stop_time-start_time, ' s')"
   ]
  },
  {
   "cell_type": "code",
   "execution_count": 18,
   "metadata": {},
   "outputs": [
    {
     "ename": "RuntimeError",
     "evalue": "Optimal parameters not found: Number of calls to function has reached maxfev = 1000.",
     "output_type": "error",
     "traceback": [
      "\u001b[1;31m---------------------------------------------------------------------------\u001b[0m",
      "\u001b[1;31mRuntimeError\u001b[0m                              Traceback (most recent call last)",
      "\u001b[1;32m<ipython-input-18-b532e3c092ac>\u001b[0m in \u001b[0;36m<module>\u001b[1;34m\u001b[0m\n\u001b[0;32m      1\u001b[0m \u001b[0mstart_time\u001b[0m \u001b[1;33m=\u001b[0m \u001b[0mtime\u001b[0m\u001b[1;33m.\u001b[0m\u001b[0mtime\u001b[0m\u001b[1;33m(\u001b[0m\u001b[1;33m)\u001b[0m\u001b[1;33m\u001b[0m\u001b[1;33m\u001b[0m\u001b[0m\n\u001b[1;32m----> 2\u001b[1;33m \u001b[0mdata\u001b[0m \u001b[1;33m=\u001b[0m \u001b[1;33m[\u001b[0m\u001b[0mgetPSF\u001b[0m\u001b[1;33m(\u001b[0m\u001b[0mx\u001b[0m\u001b[1;33m,\u001b[0m \u001b[0moptions\u001b[0m\u001b[1;33m)\u001b[0m \u001b[1;32mfor\u001b[0m \u001b[0mx\u001b[0m \u001b[1;32min\u001b[0m \u001b[0mbeads\u001b[0m\u001b[1;33m]\u001b[0m\u001b[1;33m\u001b[0m\u001b[1;33m\u001b[0m\u001b[0m\n\u001b[0m\u001b[0;32m      3\u001b[0m \u001b[0mstop_time\u001b[0m \u001b[1;33m=\u001b[0m \u001b[0mtime\u001b[0m\u001b[1;33m.\u001b[0m\u001b[0mtime\u001b[0m\u001b[1;33m(\u001b[0m\u001b[1;33m)\u001b[0m\u001b[1;33m\u001b[0m\u001b[1;33m\u001b[0m\u001b[0m\n\u001b[0;32m      4\u001b[0m \u001b[0mprint\u001b[0m\u001b[1;33m(\u001b[0m\u001b[1;34m'Runtime: '\u001b[0m\u001b[1;33m,\u001b[0m\u001b[0mstop_time\u001b[0m\u001b[1;33m-\u001b[0m\u001b[0mstart_time\u001b[0m\u001b[1;33m,\u001b[0m \u001b[1;34m' s'\u001b[0m\u001b[1;33m)\u001b[0m\u001b[1;33m\u001b[0m\u001b[1;33m\u001b[0m\u001b[0m\n",
      "\u001b[1;32m<ipython-input-18-b532e3c092ac>\u001b[0m in \u001b[0;36m<listcomp>\u001b[1;34m(.0)\u001b[0m\n\u001b[0;32m      1\u001b[0m \u001b[0mstart_time\u001b[0m \u001b[1;33m=\u001b[0m \u001b[0mtime\u001b[0m\u001b[1;33m.\u001b[0m\u001b[0mtime\u001b[0m\u001b[1;33m(\u001b[0m\u001b[1;33m)\u001b[0m\u001b[1;33m\u001b[0m\u001b[1;33m\u001b[0m\u001b[0m\n\u001b[1;32m----> 2\u001b[1;33m \u001b[0mdata\u001b[0m \u001b[1;33m=\u001b[0m \u001b[1;33m[\u001b[0m\u001b[0mgetPSF\u001b[0m\u001b[1;33m(\u001b[0m\u001b[0mx\u001b[0m\u001b[1;33m,\u001b[0m \u001b[0moptions\u001b[0m\u001b[1;33m)\u001b[0m \u001b[1;32mfor\u001b[0m \u001b[0mx\u001b[0m \u001b[1;32min\u001b[0m \u001b[0mbeads\u001b[0m\u001b[1;33m]\u001b[0m\u001b[1;33m\u001b[0m\u001b[1;33m\u001b[0m\u001b[0m\n\u001b[0m\u001b[0;32m      3\u001b[0m \u001b[0mstop_time\u001b[0m \u001b[1;33m=\u001b[0m \u001b[0mtime\u001b[0m\u001b[1;33m.\u001b[0m\u001b[0mtime\u001b[0m\u001b[1;33m(\u001b[0m\u001b[1;33m)\u001b[0m\u001b[1;33m\u001b[0m\u001b[1;33m\u001b[0m\u001b[0m\n\u001b[0;32m      4\u001b[0m \u001b[0mprint\u001b[0m\u001b[1;33m(\u001b[0m\u001b[1;34m'Runtime: '\u001b[0m\u001b[1;33m,\u001b[0m\u001b[0mstop_time\u001b[0m\u001b[1;33m-\u001b[0m\u001b[0mstart_time\u001b[0m\u001b[1;33m,\u001b[0m \u001b[1;34m' s'\u001b[0m\u001b[1;33m)\u001b[0m\u001b[1;33m\u001b[0m\u001b[1;33m\u001b[0m\u001b[0m\n",
      "\u001b[1;32m~\\Documents\\GitHub\\mesoSPIM-PSFanalysis\\psf\\main.py\u001b[0m in \u001b[0;36mgetPSF\u001b[1;34m(bead, options)\u001b[0m\n\u001b[0;32m     74\u001b[0m     \u001b[0mlatProfile\u001b[0m\u001b[1;33m,\u001b[0m \u001b[0maxProfile\u001b[0m \u001b[1;33m=\u001b[0m \u001b[0mgetSlices\u001b[0m\u001b[1;33m(\u001b[0m\u001b[0mbead\u001b[0m\u001b[1;33m)\u001b[0m\u001b[1;33m\u001b[0m\u001b[1;33m\u001b[0m\u001b[0m\n\u001b[0;32m     75\u001b[0m     \u001b[0mlatFit\u001b[0m \u001b[1;33m=\u001b[0m \u001b[0mfit\u001b[0m\u001b[1;33m(\u001b[0m\u001b[0mlatProfile\u001b[0m\u001b[1;33m,\u001b[0m\u001b[0moptions\u001b[0m\u001b[1;33m[\u001b[0m\u001b[1;34m'pxPerUmLat'\u001b[0m\u001b[1;33m]\u001b[0m\u001b[1;33m)\u001b[0m\u001b[1;33m\u001b[0m\u001b[1;33m\u001b[0m\u001b[0m\n\u001b[1;32m---> 76\u001b[1;33m     \u001b[0maxFit\u001b[0m \u001b[1;33m=\u001b[0m \u001b[0mfit\u001b[0m\u001b[1;33m(\u001b[0m\u001b[0maxProfile\u001b[0m\u001b[1;33m,\u001b[0m\u001b[0moptions\u001b[0m\u001b[1;33m[\u001b[0m\u001b[1;34m'pxPerUmAx'\u001b[0m\u001b[1;33m]\u001b[0m\u001b[1;33m)\u001b[0m\u001b[1;33m\u001b[0m\u001b[1;33m\u001b[0m\u001b[0m\n\u001b[0m\u001b[0;32m     77\u001b[0m     \u001b[0mdata\u001b[0m \u001b[1;33m=\u001b[0m \u001b[0mDataFrame\u001b[0m\u001b[1;33m(\u001b[0m\u001b[1;33m[\u001b[0m\u001b[0mlatFit\u001b[0m\u001b[1;33m[\u001b[0m\u001b[1;36m3\u001b[0m\u001b[1;33m]\u001b[0m\u001b[1;33m,\u001b[0m \u001b[0maxFit\u001b[0m\u001b[1;33m[\u001b[0m\u001b[1;36m3\u001b[0m\u001b[1;33m]\u001b[0m\u001b[1;33m]\u001b[0m\u001b[1;33m,\u001b[0m\u001b[0mindex\u001b[0m \u001b[1;33m=\u001b[0m \u001b[1;33m[\u001b[0m\u001b[1;34m'FWHMlat'\u001b[0m\u001b[1;33m,\u001b[0m \u001b[1;34m'FWHMax'\u001b[0m\u001b[1;33m]\u001b[0m\u001b[1;33m)\u001b[0m\u001b[1;33m.\u001b[0m\u001b[0mT\u001b[0m\u001b[1;33m\u001b[0m\u001b[1;33m\u001b[0m\u001b[0m\n\u001b[0;32m     78\u001b[0m     \u001b[1;32mreturn\u001b[0m \u001b[0mdata\u001b[0m\u001b[1;33m,\u001b[0m \u001b[0mlatFit\u001b[0m\u001b[1;33m,\u001b[0m \u001b[0maxFit\u001b[0m\u001b[1;33m\u001b[0m\u001b[1;33m\u001b[0m\u001b[0m\n",
      "\u001b[1;32m~\\Documents\\GitHub\\mesoSPIM-PSFanalysis\\psf\\main.py\u001b[0m in \u001b[0;36mfit\u001b[1;34m(yRaw, scale)\u001b[0m\n\u001b[0;32m     87\u001b[0m     \u001b[0mx\u001b[0m \u001b[1;33m=\u001b[0m \u001b[1;33m(\u001b[0m\u001b[0marray\u001b[0m\u001b[1;33m(\u001b[0m\u001b[0mrange\u001b[0m\u001b[1;33m(\u001b[0m\u001b[0my\u001b[0m\u001b[1;33m.\u001b[0m\u001b[0mshape\u001b[0m\u001b[1;33m[\u001b[0m\u001b[1;36m0\u001b[0m\u001b[1;33m]\u001b[0m\u001b[1;33m)\u001b[0m\u001b[1;33m)\u001b[0m \u001b[1;33m-\u001b[0m \u001b[0my\u001b[0m\u001b[1;33m.\u001b[0m\u001b[0mshape\u001b[0m\u001b[1;33m[\u001b[0m\u001b[1;36m0\u001b[0m\u001b[1;33m]\u001b[0m\u001b[1;33m/\u001b[0m\u001b[1;36m2\u001b[0m\u001b[1;33m)\u001b[0m\u001b[1;33m\u001b[0m\u001b[1;33m\u001b[0m\u001b[0m\n\u001b[0;32m     88\u001b[0m     \u001b[0mx\u001b[0m \u001b[1;33m=\u001b[0m \u001b[1;33m(\u001b[0m\u001b[0marray\u001b[0m\u001b[1;33m(\u001b[0m\u001b[0mrange\u001b[0m\u001b[1;33m(\u001b[0m\u001b[0my\u001b[0m\u001b[1;33m.\u001b[0m\u001b[0mshape\u001b[0m\u001b[1;33m[\u001b[0m\u001b[1;36m0\u001b[0m\u001b[1;33m]\u001b[0m\u001b[1;33m)\u001b[0m\u001b[1;33m)\u001b[0m \u001b[1;33m-\u001b[0m \u001b[0my\u001b[0m\u001b[1;33m.\u001b[0m\u001b[0mshape\u001b[0m\u001b[1;33m[\u001b[0m\u001b[1;36m0\u001b[0m\u001b[1;33m]\u001b[0m\u001b[1;33m/\u001b[0m\u001b[1;36m2\u001b[0m\u001b[1;33m)\u001b[0m\u001b[1;33m\u001b[0m\u001b[1;33m\u001b[0m\u001b[0m\n\u001b[1;32m---> 89\u001b[1;33m     \u001b[0mpopt\u001b[0m\u001b[1;33m,\u001b[0m \u001b[0mpcov\u001b[0m \u001b[1;33m=\u001b[0m \u001b[0mcurve_fit\u001b[0m\u001b[1;33m(\u001b[0m\u001b[0mgauss\u001b[0m\u001b[1;33m,\u001b[0m \u001b[0mx\u001b[0m\u001b[1;33m,\u001b[0m \u001b[0my\u001b[0m\u001b[1;33m,\u001b[0m \u001b[0mp0\u001b[0m \u001b[1;33m=\u001b[0m \u001b[1;33m[\u001b[0m\u001b[1;36m1\u001b[0m\u001b[1;33m,\u001b[0m \u001b[1;36m0\u001b[0m\u001b[1;33m,\u001b[0m \u001b[1;36m1\u001b[0m\u001b[1;33m,\u001b[0m \u001b[1;36m0\u001b[0m\u001b[1;33m]\u001b[0m\u001b[1;33m)\u001b[0m\u001b[1;33m\u001b[0m\u001b[1;33m\u001b[0m\u001b[0m\n\u001b[0m\u001b[0;32m     90\u001b[0m     \u001b[0mFWHM\u001b[0m \u001b[1;33m=\u001b[0m \u001b[1;36m2.355\u001b[0m\u001b[1;33m*\u001b[0m\u001b[0mpopt\u001b[0m\u001b[1;33m[\u001b[0m\u001b[1;36m2\u001b[0m\u001b[1;33m]\u001b[0m\u001b[1;33m/\u001b[0m\u001b[0mscale\u001b[0m\u001b[1;33m\u001b[0m\u001b[1;33m\u001b[0m\u001b[0m\n\u001b[0;32m     91\u001b[0m     \u001b[0myFit\u001b[0m \u001b[1;33m=\u001b[0m \u001b[0mgauss\u001b[0m\u001b[1;33m(\u001b[0m\u001b[0mx\u001b[0m\u001b[1;33m,\u001b[0m \u001b[1;33m*\u001b[0m\u001b[0mpopt\u001b[0m\u001b[1;33m)\u001b[0m\u001b[1;33m\u001b[0m\u001b[1;33m\u001b[0m\u001b[0m\n",
      "\u001b[1;32m~\\anaconda3\\lib\\site-packages\\scipy\\optimize\\minpack.py\u001b[0m in \u001b[0;36mcurve_fit\u001b[1;34m(f, xdata, ydata, p0, sigma, absolute_sigma, check_finite, bounds, method, jac, **kwargs)\u001b[0m\n\u001b[0;32m    787\u001b[0m         \u001b[0mcost\u001b[0m \u001b[1;33m=\u001b[0m \u001b[0mnp\u001b[0m\u001b[1;33m.\u001b[0m\u001b[0msum\u001b[0m\u001b[1;33m(\u001b[0m\u001b[0minfodict\u001b[0m\u001b[1;33m[\u001b[0m\u001b[1;34m'fvec'\u001b[0m\u001b[1;33m]\u001b[0m \u001b[1;33m**\u001b[0m \u001b[1;36m2\u001b[0m\u001b[1;33m)\u001b[0m\u001b[1;33m\u001b[0m\u001b[1;33m\u001b[0m\u001b[0m\n\u001b[0;32m    788\u001b[0m         \u001b[1;32mif\u001b[0m \u001b[0mier\u001b[0m \u001b[1;32mnot\u001b[0m \u001b[1;32min\u001b[0m \u001b[1;33m[\u001b[0m\u001b[1;36m1\u001b[0m\u001b[1;33m,\u001b[0m \u001b[1;36m2\u001b[0m\u001b[1;33m,\u001b[0m \u001b[1;36m3\u001b[0m\u001b[1;33m,\u001b[0m \u001b[1;36m4\u001b[0m\u001b[1;33m]\u001b[0m\u001b[1;33m:\u001b[0m\u001b[1;33m\u001b[0m\u001b[1;33m\u001b[0m\u001b[0m\n\u001b[1;32m--> 789\u001b[1;33m             \u001b[1;32mraise\u001b[0m \u001b[0mRuntimeError\u001b[0m\u001b[1;33m(\u001b[0m\u001b[1;34m\"Optimal parameters not found: \"\u001b[0m \u001b[1;33m+\u001b[0m \u001b[0merrmsg\u001b[0m\u001b[1;33m)\u001b[0m\u001b[1;33m\u001b[0m\u001b[1;33m\u001b[0m\u001b[0m\n\u001b[0m\u001b[0;32m    790\u001b[0m     \u001b[1;32melse\u001b[0m\u001b[1;33m:\u001b[0m\u001b[1;33m\u001b[0m\u001b[1;33m\u001b[0m\u001b[0m\n\u001b[0;32m    791\u001b[0m         \u001b[1;31m# Rename maxfev (leastsq) to max_nfev (least_squares), if specified.\u001b[0m\u001b[1;33m\u001b[0m\u001b[1;33m\u001b[0m\u001b[1;33m\u001b[0m\u001b[0m\n",
      "\u001b[1;31mRuntimeError\u001b[0m: Optimal parameters not found: Number of calls to function has reached maxfev = 1000."
     ]
    }
   ],
   "source": [
    "start_time = time.time()\n",
    "data = [getPSF(x, options) for x in beads]\n",
    "stop_time = time.time()\n",
    "print('Runtime: ',stop_time-start_time, ' s')"
   ]
  },
  {
   "cell_type": "code",
   "execution_count": null,
   "metadata": {},
   "outputs": [],
   "source": [
    "centers = pd.DataFrame(centers, columns=['Z','Y','X'])"
   ]
  },
  {
   "cell_type": "code",
   "execution_count": null,
   "metadata": {},
   "outputs": [],
   "source": [
    "PSF = pd.concat([x[0] for x in data])\n",
    "PSF['Max'] = maxima\n",
    "PSF = PSF.reset_index().drop(['index'],axis=1)\n",
    "latProfile = [x[1] for x in data]\n",
    "axProfile = [x[2] for x in data]\n",
    "PSF = PSF.join(centers)"
   ]
  },
  {
   "cell_type": "markdown",
   "metadata": {},
   "source": [
    "### Inspect results"
   ]
  },
  {
   "cell_type": "code",
   "execution_count": null,
   "metadata": {
    "scrolled": true
   },
   "outputs": [],
   "source": [
    "PSF.head()"
   ]
  },
  {
   "cell_type": "code",
   "execution_count": null,
   "metadata": {},
   "outputs": [],
   "source": [
    "print('# Beads: ', len(PSF))\n",
    "print('\\nMedian lateral FWHM (+/- std): ', round(np.median(PSF['FWHMlat']),2), ' +/- ', round(PSF['FWHMlat'].std(),2), ' μm')\n",
    "print(f\"MIN, MAX lateral FWHM: {round(PSF['FWHMlat'].min(),2)}, {round(PSF['FWHMlat'].max(),2)} μm\")\n",
    "print('\\nMedian axial FWHM  (+/- std): ', round(np.median(PSF['FWHMax']),2), ' +/- ', round(PSF['FWHMax'].std(),2), ' μm')\n",
    "print(f\"MIN, MAX axial FWHM: {round(PSF['FWHMax'].min(),2)}, {round(PSF['FWHMax'].max(),2)}, μm\")\n",
    "\n",
    "print('\\nWatch for large STD (>2 um), they indicate bad detections, e.g. multiple beads merged together.')"
   ]
  },
  {
   "cell_type": "markdown",
   "metadata": {},
   "source": [
    "### Plot axial FWHM vs. FOV"
   ]
  },
  {
   "cell_type": "code",
   "execution_count": null,
   "metadata": {
    "scrolled": false
   },
   "outputs": [],
   "source": [
    "%matplotlib inline\n",
    "YMIN, YMAX = 0, 10\n",
    "fig = plt.figure(figsize=(15,10));\n",
    "\n",
    "subfigure0 = fig.add_subplot(211)\n",
    "subfigure0.plot(np.multiply(PSF['Y'].tolist(),UmPerPxLat),PSF['FWHMax'].tolist(),'.b',ms=5)\n",
    "subfigure0.set_ylim([YMIN,YMAX])\n",
    "subfigure0.set_xlabel('Y Distance (μm)')\n",
    "subfigure0.set_ylabel('Axial FWHM (μm)')\n",
    "subfigure0.grid()\n",
    "\n",
    "subfigure1 = fig.add_subplot(212)\n",
    "subfigure1.plot(np.multiply(PSF['X'].tolist(),UmPerPxLat),PSF['FWHMax'].tolist(),'.r',ms=5)\n",
    "subfigure1.set_ylim([YMIN,YMAX])\n",
    "subfigure1.set_xlabel('X Distance (μm)')\n",
    "subfigure1.set_ylabel('Axial FWHM (μm)')\n",
    "subfigure1.grid()\n",
    "\n",
    "plt.subplots_adjust(hspace = 0.3)"
   ]
  },
  {
   "cell_type": "code",
   "execution_count": null,
   "metadata": {},
   "outputs": [],
   "source": [
    "fig.savefig(datafolder + f'/{experiment_key}-{exp_ms}ms-{freq_Hz}hz-axialFWHM-along-axes.svg', facecolor=fig.get_facecolor(), edgecolor='none',dpi=200)\n",
    "fig.savefig(datafolder + f'/{experiment_key}-{exp_ms}ms-{freq_Hz}hz-axialFWHM-along-axes.png', facecolor=fig.get_facecolor(), edgecolor='none',dpi=200)"
   ]
  },
  {
   "cell_type": "code",
   "execution_count": null,
   "metadata": {},
   "outputs": [],
   "source": [
    "%matplotlib inline\n",
    "YMIN, YMAX = 0, 10\n",
    "fig = plt.figure(figsize=(15,10));\n",
    "\n",
    "subfigure0 = fig.add_subplot(211)\n",
    "subfigure0.plot(np.multiply(PSF['Y'].tolist(),UmPerPxLat),PSF['FWHMlat'].tolist(),'.b',ms=5)\n",
    "subfigure0.set_ylim([YMIN,YMAX])\n",
    "subfigure0.set_xlabel('Y Distance (μm)')\n",
    "subfigure0.set_ylabel('Lateral FWHM (μm)')\n",
    "subfigure0.grid()\n",
    "\n",
    "subfigure1 = fig.add_subplot(212)\n",
    "subfigure1.plot(np.multiply(PSF['X'].tolist(),UmPerPxLat),PSF['FWHMlat'].tolist(),'.r',ms=5)\n",
    "subfigure1.set_ylim([YMIN,YMAX])\n",
    "subfigure1.set_xlabel('X Distance (μm)')\n",
    "subfigure1.set_ylabel('Lateral FWHM (μm)')\n",
    "subfigure1.grid()\n",
    "\n",
    "plt.subplots_adjust(hspace = 0.3)"
   ]
  },
  {
   "cell_type": "code",
   "execution_count": null,
   "metadata": {},
   "outputs": [],
   "source": [
    "fig.savefig(datafolder + f'/{experiment_key}-{exp_ms}ms-{freq_Hz}hz-lateralFWHM-along-axes.svg', facecolor=fig.get_facecolor(), edgecolor='none',dpi=200)\n",
    "fig.savefig(datafolder + f'/{experiment_key}-{exp_ms}ms-{freq_Hz}hz-lateralFWHM-along-axes.png', facecolor=fig.get_facecolor(), edgecolor='none',dpi=200)"
   ]
  },
  {
   "cell_type": "code",
   "execution_count": null,
   "metadata": {},
   "outputs": [],
   "source": [
    "PSF.to_csv(datafolder + f'/{experiment_key}-20ms-99hz.csv')"
   ]
  },
  {
   "cell_type": "markdown",
   "metadata": {},
   "source": [
    "## Sanity checks"
   ]
  },
  {
   "cell_type": "markdown",
   "metadata": {},
   "source": [
    "### Plot max projection and detected beads"
   ]
  },
  {
   "cell_type": "code",
   "execution_count": null,
   "metadata": {},
   "outputs": [],
   "source": [
    "plt.figure(figsize=(10,10));\n",
    "plt.imshow(smoothed);\n",
    "plt.plot(PSF['X'].tolist(), PSF['Y'].tolist(), 'y.', ms=8);\n",
    "plt.axis('off'); "
   ]
  },
  {
   "cell_type": "markdown",
   "metadata": {},
   "source": [
    "### Axial and lateral FWHM Histogram"
   ]
  },
  {
   "cell_type": "code",
   "execution_count": null,
   "metadata": {
    "scrolled": false
   },
   "outputs": [],
   "source": [
    "fig = plt.figure(figsize=(10,5))\n",
    "subfigure0 = fig.add_subplot(121)\n",
    "subfigure0.hist(PSF['FWHMax'].tolist(),2*8,range=(2,10))\n",
    "subfigure0.set_xlim([2, 9])\n",
    "subfigure0.set_xlabel('Axial FWHM (μm)')\n",
    "subfigure0.set_xticks(range(2,11))\n",
    "subfigure0.set_ylabel('# Beads')\n",
    "subfigure1 = fig.add_subplot(122)\n",
    "subfigure1.hist(PSF['FWHMlat'].tolist(),2*8,range=(2,10))\n",
    "subfigure1.set_xlim([2, 9])\n",
    "subfigure1.set_xticks(range(2,11))\n",
    "subfigure1.set_xlabel('Lateral FWHM (μm)')\n",
    "subfigure1.set_ylabel('# Beads')\n",
    "\n",
    "plt.subplots_adjust(wspace = 0.5)"
   ]
  },
  {
   "cell_type": "code",
   "execution_count": null,
   "metadata": {},
   "outputs": [],
   "source": [
    "fig.savefig(datafolder + f'/{experiment_key}-{exp_ms}ms-{freq_Hz}hz-hist-axial-lateral.svg', facecolor=fig.get_facecolor(), edgecolor='none',dpi=200)\n",
    "fig.savefig(datafolder + f'/{experiment_key}-{exp_ms}ms-{freq_Hz}hz-hist-axial-lateral.png', facecolor=fig.get_facecolor(), edgecolor='none',dpi=200)"
   ]
  },
  {
   "cell_type": "code",
   "execution_count": 67,
   "metadata": {},
   "outputs": [],
   "source": [
    "# manually exclude detections that are double-beads next to each other, see manual PSF check below\n",
    "#exclude_IDs = [929, 2193]\n",
    "#PSF_cleaned = PSF.drop(exclude_IDs)"
   ]
  },
  {
   "cell_type": "markdown",
   "metadata": {},
   "source": [
    "### Overview Plots"
   ]
  },
  {
   "cell_type": "code",
   "execution_count": null,
   "metadata": {
    "scrolled": false
   },
   "outputs": [],
   "source": [
    "fig = plt.figure(figsize=(15,7.5));\n",
    "cmap = 'jet'\n",
    "\n",
    "subfigure0 = fig.add_subplot(121)\n",
    "subfigure0.imshow(smoothed)\n",
    "overlay0 = subfigure0.scatter(PSF['X'].tolist(), PSF['Y'].tolist(), c=PSF['FWHMax'].tolist(), cmap=cmap, vmin=0, vmax=10)\n",
    "subfigure0.axis('on');\n",
    "subfigure0.set_title('PSF: Axial FWHM')\n",
    "cbar0 = plt.colorbar(overlay0,fraction=0.044, pad=0.04)\n",
    "cbar0.set_label('Axial FWHM (μm)')\n",
    "\n",
    "\n",
    "subfigure1 = fig.add_subplot(122)\n",
    "subfigure1.imshow(smoothed);\n",
    "overlay1 = subfigure1.scatter(PSF['X'].tolist(), PSF['Y'].tolist(), c=PSF['FWHMlat'].tolist(), cmap=cmap, vmin=0, vmax=5);\n",
    "subfigure1.axis('on');\n",
    "subfigure1.set_title('PSF: Lateral FWHM')\n",
    "cbar1 = plt.colorbar(overlay1,fraction=0.044, pad=0.04)\n",
    "cbar1.set_label('Lateral FWHM (μm)')\n",
    "\n",
    "plt.subplots_adjust(wspace = 0.35)"
   ]
  },
  {
   "cell_type": "code",
   "execution_count": null,
   "metadata": {},
   "outputs": [],
   "source": [
    "fig.savefig(datafolder + f'/{experiment_key}-{exp_ms}ms-{freq_Hz}hz-Comparision-XYplot-jet.svg', facecolor=fig.get_facecolor(), edgecolor='none',dpi=200)\n",
    "fig.savefig(datafolder + f'/{experiment_key}-{exp_ms}ms-{freq_Hz}hz-Comparision-XYplot-jet.png', facecolor=fig.get_facecolor(), edgecolor='none',dpi=200)"
   ]
  },
  {
   "cell_type": "markdown",
   "metadata": {},
   "source": [
    "## Plot XYZ projections of selected PSFs and fit"
   ]
  },
  {
   "cell_type": "code",
   "execution_count": null,
   "metadata": {},
   "outputs": [],
   "source": [
    "centerPSFs = PSF[PSF.FWHMlat > 4.5]\n",
    "centerPSFs.head()"
   ]
  },
  {
   "cell_type": "code",
   "execution_count": null,
   "metadata": {},
   "outputs": [],
   "source": [
    "len(centerPSFs)"
   ]
  },
  {
   "cell_type": "code",
   "execution_count": 31,
   "metadata": {},
   "outputs": [
    {
     "data": {
      "image/png": "[encoded data removed]",
      "text/plain": [
       "<Figure size 432x288 with 3 Axes>"
      ]
     },
     "metadata": {
      "needs_background": "light"
     },
     "output_type": "display_data"
    },
    {
     "data": {
      "image/png": "[encoded data removed]",
      "text/plain": [
       "<Figure size 432x288 with 1 Axes>"
      ]
     },
     "metadata": {
      "needs_background": "light"
     },
     "output_type": "display_data"
    },
    {
     "data": {
      "image/png": "[encoded data removed]",
      "text/plain": [
       "<Figure size 432x288 with 1 Axes>"
      ]
     },
     "metadata": {
      "needs_background": "light"
     },
     "output_type": "display_data"
    }
   ],
   "source": [
    "# Plot PSF with known ID\n",
    "beadInd = 4825\n",
    "average = beads[beadInd]\n",
    "\n",
    "fig, _axs = plt.subplots(nrows=1, ncols=3)\n",
    "axs = _axs.flatten()\n",
    "\n",
    "XYview = axs[0].imshow(average.mean(axis=0), cmap='gray');\n",
    "XZview = axs[1].imshow(average.mean(axis=1), aspect = pxPerUmLat/pxPerUmAx, cmap='gray');\n",
    "YZview = axs[2].imshow(average.mean(axis=2), aspect = pxPerUmLat/pxPerUmAx, cmap='gray');\n",
    "plt.show()\n",
    "\n",
    "plotPSF(latProfile[beadInd][0],latProfile[beadInd][1],latProfile[beadInd][2],latProfile[beadInd][3],pxPerUmLat,PSF.Max.iloc[beadInd])\n",
    "plt.show()\n",
    "plotPSF(axProfile[beadInd][0],axProfile[beadInd][1],axProfile[beadInd][2],axProfile[beadInd][3],pxPerUmAx,PSF.Max.iloc[beadInd])\n",
    "plt.show()"
   ]
  },
  {
   "cell_type": "code",
   "execution_count": 82,
   "metadata": {},
   "outputs": [
    {
     "data": {
      "text/plain": [
       "<Figure size 432x288 with 0 Axes>"
      ]
     },
     "metadata": {},
     "output_type": "display_data"
    },
    {
     "data": {
      "application/vnd.jupyter.widget-view+json": {
       "model_id": "5b966c3b314b449facbfe631b3ce7175",
       "version_major": 2,
       "version_minor": 0
      },
      "text/plain": [
       "interactive(children=(IntSlider(value=0, continuous_update=False, description='w', max=648), Output()), _dom_c…"
      ]
     },
     "metadata": {},
     "output_type": "display_data"
    }
   ],
   "source": [
    "fig = plt.figure()\n",
    "\n",
    "def update(w = 50):\n",
    "    beadInd = w\n",
    "    average = beads[beadInd]\n",
    "    \n",
    "    fig, _axs = plt.subplots(nrows=1, ncols=3)\n",
    "    axs = _axs.flatten()\n",
    "\n",
    "    XYview = axs[0].imshow(average.mean(axis=0));\n",
    "    XZview = axs[1].imshow(average.mean(axis=1), aspect = pxPerUmLat/pxPerUmAx);\n",
    "    YZview = axs[2].imshow(average.mean(axis=2), aspect = pxPerUmLat/pxPerUmAx);\n",
    "    plt.show()\n",
    "    plotPSF(latProfile[beadInd][0],latProfile[beadInd][1],latProfile[beadInd][2],latProfile[beadInd][3],pxPerUmLat,PSF.Max.iloc[beadInd])\n",
    "    plt.show()\n",
    "    plotPSF(axProfile[beadInd][0],axProfile[beadInd][1],axProfile[beadInd][2],axProfile[beadInd][3],pxPerUmAx,PSF.Max.iloc[beadInd])\n",
    "    plt.show()\n",
    "\n",
    "interact(update, w=IntSlider(min=0,max=len(PSF)-1,step=1,value=0,continuous_update=False));"
   ]
  },
  {
   "cell_type": "code",
   "execution_count": null,
   "metadata": {},
   "outputs": [],
   "source": []
  }
 ],
 "metadata": {
  "anaconda-cloud": {},
  "kernelspec": {
   "display_name": "Python 3",
   "language": "python",
   "name": "python3"
  },
  "language_info": {
   "codemirror_mode": {
    "name": "ipython",
    "version": 3
   },
   "file_extension": ".py",
   "mimetype": "text/x-python",
   "name": "python",
   "nbconvert_exporter": "python",
   "pygments_lexer": "ipython3",
   "version": "3.8.5"
  }
 },
 "nbformat": 4,
 "nbformat_minor": 1
}
